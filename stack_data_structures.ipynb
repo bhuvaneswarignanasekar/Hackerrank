{
  "nbformat": 4,
  "nbformat_minor": 0,
  "metadata": {
    "colab": {
      "provenance": [],
      "authorship_tag": "ABX9TyO6pi2g/22NAnAyGVLfHQBO",
      "include_colab_link": true
    },
    "kernelspec": {
      "name": "python3",
      "display_name": "Python 3"
    },
    "language_info": {
      "name": "python"
    }
  },
  "cells": [
    {
      "cell_type": "markdown",
      "metadata": {
        "id": "view-in-github",
        "colab_type": "text"
      },
      "source": [
        "<a href=\"https://colab.research.google.com/github/bhuvaneswarignanasekar/Hackerrank/blob/main/stack_data_structures.ipynb\" target=\"_parent\"><img src=\"https://colab.research.google.com/assets/colab-badge.svg\" alt=\"Open In Colab\"/></a>"
      ]
    },
    {
      "cell_type": "code",
      "execution_count": null,
      "metadata": {
        "id": "1yRBujLwRQTM"
      },
      "outputs": [],
      "source": [
        "# building stack structure in python\n",
        "\n",
        "# Quick stack overview\n",
        "\n",
        "# -------- stack follows LIFO - Last in First out\n",
        "\n",
        "# -------- Stack performs push, pop and peek functions\n",
        "# -------- Push- pushes the element into the stack\n",
        "# -------- Pop- removes the element from the stack\n",
        "# -------- Peek - Peek shows the last element pushed into the stack\n",
        "\n",
        "\n",
        "\n",
        "# For stack structure imagine a pringles jar.\n",
        "# ------ new chips are placed above the previous ones and\n",
        "#        when you need to pick one to eat you will pick up the one\n",
        "#        at the top, following the LIFO"
      ]
    },
    {
      "cell_type": "code",
      "source": [
        "# Python coding\n",
        "\n",
        "# Create a class called stack\n",
        "\n",
        "class Stack:\n",
        "  # give me entry point and initialize the stack in the entry point\n",
        "  def __init__(self):\n",
        "    self.stack=[]\n",
        "\n",
        "  # Check whether the stack is empty\n",
        "  def isempty(self):\n",
        "    return self.stack==[]\n",
        "\n",
        "  # return the length/size of the stack\n",
        "  def size(self):\n",
        "    return len(self.stack)\n",
        "\n",
        "  #pushing into the stack\n",
        "  def push(self,item):\n",
        "    self.stack.append(item)\n",
        "\n",
        "  #pop from the stack\n",
        "  def pop(self):\n",
        "    if self.isempty(): raise IndexError(\"stack is empty\")\n",
        "    return self.stack.pop()\n",
        "\n",
        "  #peek into the stack\n",
        "  def peek(self):\n",
        "    return self.stack[-1]\n"
      ],
      "metadata": {
        "id": "mEMyrNO5RlWq"
      },
      "execution_count": null,
      "outputs": []
    }
  ]
}